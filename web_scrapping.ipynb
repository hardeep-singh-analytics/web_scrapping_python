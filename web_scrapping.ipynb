{
 "cells": [
  {
   "cell_type": "markdown",
   "id": "f4bf131d-cf8e-4a96-8a2e-34fad1517bc9",
   "metadata": {},
   "source": [
    "### Scrapping video title, description and weblink from the webpage using BeautifulSoup, requests and lxml packages."
   ]
  },
  {
   "cell_type": "code",
   "execution_count": 1,
   "id": "0ee56743-18a8-4d61-8de9-dc34141a83fd",
   "metadata": {},
   "outputs": [],
   "source": [
    "from bs4 import BeautifulSoup\n",
    "import requests\n",
    "import csv"
   ]
  },
  {
   "cell_type": "code",
   "execution_count": 2,
   "id": "9c0d87e3-a797-4a89-b0e3-6d8124746586",
   "metadata": {},
   "outputs": [],
   "source": [
    "#Getting the response object and converting it into source code of the webpage using text attribute"
   ]
  },
  {
   "cell_type": "code",
   "execution_count": 3,
   "id": "ae172a50-88ad-4fb8-b58c-1daf6a169f3f",
   "metadata": {},
   "outputs": [],
   "source": [
    "source = requests.get('http://coreyms.com').text"
   ]
  },
  {
   "cell_type": "code",
   "execution_count": 4,
   "id": "fe0626ab-a60c-4ace-aa89-f88452912a06",
   "metadata": {},
   "outputs": [],
   "source": [
    "# Creating a BeautifulSoup object of the source code and using lxml as a parser."
   ]
  },
  {
   "cell_type": "code",
   "execution_count": 5,
   "id": "26b71375-891c-462f-a69b-dbfefcd97cad",
   "metadata": {},
   "outputs": [],
   "source": [
    "soup = BeautifulSoup(source, 'lxml')"
   ]
  },
  {
   "cell_type": "code",
   "execution_count": 6,
   "id": "c97e65fc-687c-47c5-ad65-1ba982b20186",
   "metadata": {},
   "outputs": [],
   "source": [
    "# Checking the html structure of the first video of the webpage."
   ]
  },
  {
   "cell_type": "code",
   "execution_count": 7,
   "id": "0e348087-73ed-44ed-802c-d2f22a86cc7b",
   "metadata": {},
   "outputs": [
    {
     "name": "stdout",
     "output_type": "stream",
     "text": [
      "<article class=\"post-1670 post type-post status-publish format-standard has-post-thumbnail category-development category-python tag-gzip tag-shutil tag-zip tag-zipfile entry\" itemscope=\"\" itemtype=\"https://schema.org/CreativeWork\">\n",
      " <header class=\"entry-header\">\n",
      "  <h2 class=\"entry-title\" itemprop=\"headline\">\n",
      "   <a class=\"entry-title-link\" href=\"https://coreyms.com/development/python/python-tutorial-zip-files-creating-and-extracting-zip-archives\" rel=\"bookmark\">\n",
      "    Python Tutorial: Zip Files – Creating and Extracting Zip Archives\n",
      "   </a>\n",
      "  </h2>\n",
      "  <p class=\"entry-meta\">\n",
      "   <time class=\"entry-time\" datetime=\"2019-11-19T13:02:37-05:00\" itemprop=\"datePublished\">\n",
      "    November 19, 2019\n",
      "   </time>\n",
      "   by\n",
      "   <span class=\"entry-author\" itemprop=\"author\" itemscope=\"\" itemtype=\"https://schema.org/Person\">\n",
      "    <a class=\"entry-author-link\" href=\"https://coreyms.com/author/coreymschafer\" itemprop=\"url\" rel=\"author\">\n",
      "     <span class=\"entry-author-name\" itemprop=\"name\">\n",
      "      Corey Schafer\n",
      "     </span>\n",
      "    </a>\n",
      "   </span>\n",
      "   <span class=\"entry-comments-link\">\n",
      "    <a href=\"https://coreyms.com/development/python/python-tutorial-zip-files-creating-and-extracting-zip-archives#respond\">\n",
      "     <span class=\"dsq-postid\" data-dsqidentifier=\"1670 http://coreyms.com/?p=1670\">\n",
      "      Leave a Comment\n",
      "     </span>\n",
      "    </a>\n",
      "   </span>\n",
      "  </p>\n",
      " </header>\n",
      " <div class=\"entry-content\" itemprop=\"text\">\n",
      "  <p>\n",
      "   In this video, we will be learning how to create and extract zip archives. We will start by using the zipfile module, and then we will see how to do this using the shutil module. We will learn how to do this with single files and directories, as well as learning how to use gzip as well. Let’s get started…\n",
      "   <br/>\n",
      "  </p>\n",
      "  <span class=\"embed-youtube\" style=\"text-align:center; display: block;\">\n",
      "   <iframe allowfullscreen=\"true\" class=\"youtube-player\" height=\"360\" sandbox=\"allow-scripts allow-same-origin allow-popups allow-presentation\" src=\"https://www.youtube.com/embed/z0gguhEmWiY?version=3&amp;rel=1&amp;showsearch=0&amp;showinfo=1&amp;iv_load_policy=1&amp;fs=1&amp;hl=en-US&amp;autohide=2&amp;wmode=transparent\" style=\"border:0;\" width=\"640\">\n",
      "   </iframe>\n",
      "  </span>\n",
      " </div>\n",
      " <footer class=\"entry-footer\">\n",
      "  <p class=\"entry-meta\">\n",
      "   <span class=\"entry-categories\">\n",
      "    Filed Under:\n",
      "    <a href=\"https://coreyms.com/category/development\" rel=\"category tag\">\n",
      "     Development\n",
      "    </a>\n",
      "    ,\n",
      "    <a href=\"https://coreyms.com/category/development/python\" rel=\"category tag\">\n",
      "     Python\n",
      "    </a>\n",
      "   </span>\n",
      "   <span class=\"entry-tags\">\n",
      "    Tagged With:\n",
      "    <a href=\"https://coreyms.com/tag/gzip\" rel=\"tag\">\n",
      "     gzip\n",
      "    </a>\n",
      "    ,\n",
      "    <a href=\"https://coreyms.com/tag/shutil\" rel=\"tag\">\n",
      "     shutil\n",
      "    </a>\n",
      "    ,\n",
      "    <a href=\"https://coreyms.com/tag/zip\" rel=\"tag\">\n",
      "     zip\n",
      "    </a>\n",
      "    ,\n",
      "    <a href=\"https://coreyms.com/tag/zipfile\" rel=\"tag\">\n",
      "     zipfile\n",
      "    </a>\n",
      "   </span>\n",
      "  </p>\n",
      " </footer>\n",
      "</article>\n",
      "\n"
     ]
    }
   ],
   "source": [
    "article = soup.find('article')\n",
    "\n",
    "print(article.prettify())\n",
    "\n",
    "#Each article tag in the source code consists of details of a particular video of the webpage."
   ]
  },
  {
   "cell_type": "code",
   "execution_count": 8,
   "id": "bf36f311-323f-43f2-9302-44fef8cbdb84",
   "metadata": {},
   "outputs": [],
   "source": [
    "#After inspecting the article tag of the first video, it has been concluded that 'a' tag within 'h2' tag consists\n",
    "#of heading of the video."
   ]
  },
  {
   "cell_type": "code",
   "execution_count": 9,
   "id": "36feebee-53d1-4fef-a38f-82c2721afff3",
   "metadata": {},
   "outputs": [],
   "source": [
    "# Parsing the heading of the first video"
   ]
  },
  {
   "cell_type": "code",
   "execution_count": 10,
   "id": "4f501d48-2938-4ec3-bd04-c1d42f33d049",
   "metadata": {},
   "outputs": [],
   "source": [
    "headline = article.h2.a.text"
   ]
  },
  {
   "cell_type": "code",
   "execution_count": 11,
   "id": "dd22c49b-5642-43a3-b247-e9b7231aaa98",
   "metadata": {},
   "outputs": [
    {
     "data": {
      "text/plain": [
       "'Python Tutorial: Zip Files – Creating and Extracting Zip Archives'"
      ]
     },
     "execution_count": 11,
     "metadata": {},
     "output_type": "execute_result"
    }
   ],
   "source": [
    "headline"
   ]
  },
  {
   "cell_type": "code",
   "execution_count": 12,
   "id": "b2c3eae0-5268-4cdb-a655-1e6b2467fa0d",
   "metadata": {},
   "outputs": [],
   "source": [
    "# Parsing the summary of the video present under the 'div' tag with attribute class = 'entry-content'."
   ]
  },
  {
   "cell_type": "code",
   "execution_count": 13,
   "id": "650c5b47-58fb-4e51-befc-e7c2f6f42079",
   "metadata": {},
   "outputs": [
    {
     "name": "stdout",
     "output_type": "stream",
     "text": [
      "In this video, we will be learning how to create and extract zip archives. We will start by using the zipfile module, and then we will see how to do this using the shutil module. We will learn how to do this with single files and directories, as well as learning how to use gzip as well. Let’s get started…\n"
     ]
    }
   ],
   "source": [
    "summary = article.find('div', class_=\"entry-content\").p.text\n",
    "print(summary)"
   ]
  },
  {
   "cell_type": "code",
   "execution_count": 14,
   "id": "28618751-0c51-4f00-9f06-a94553c1aeaa",
   "metadata": {},
   "outputs": [],
   "source": [
    "# the src attribute of iframe tag has the embeded vido link. However, we could parse the youtube video id.\n",
    "#Which is z0gguhEmWiY for the video in the 1st article tag. See below."
   ]
  },
  {
   "cell_type": "code",
   "execution_count": 15,
   "id": "075c0492-d237-428c-bad7-c08edeb57389",
   "metadata": {},
   "outputs": [
    {
     "name": "stdout",
     "output_type": "stream",
     "text": [
      "https://www.youtube.com/embed/z0gguhEmWiY?version=3&rel=1&showsearch=0&showinfo=1&iv_load_policy=1&fs=1&hl=en-US&autohide=2&wmode=transparent\n"
     ]
    }
   ],
   "source": [
    "vid_src = article.find('iframe', class_=\"youtube-player\")['src']\n",
    "print(vid_src)"
   ]
  },
  {
   "cell_type": "code",
   "execution_count": 16,
   "id": "ed50a900-d3cc-411b-a4f8-5ca5f7f5d2c4",
   "metadata": {},
   "outputs": [],
   "source": [
    "# Splitting the string with '/' and extracting the element from the list that contains video id."
   ]
  },
  {
   "cell_type": "code",
   "execution_count": 17,
   "id": "09dc702a-1899-4f02-8003-c18d459776ce",
   "metadata": {},
   "outputs": [
    {
     "name": "stdout",
     "output_type": "stream",
     "text": [
      "z0gguhEmWiY?version=3&rel=1&showsearch=0&showinfo=1&iv_load_policy=1&fs=1&hl=en-US&autohide=2&wmode=transparent\n"
     ]
    }
   ],
   "source": [
    "vid_id = vid_src.split('/')[4]\n",
    "print(vid_id)"
   ]
  },
  {
   "cell_type": "code",
   "execution_count": 18,
   "id": "926d7024-5ac5-4798-ae4e-fd7f77f51a8c",
   "metadata": {},
   "outputs": [],
   "source": [
    "# Splitting the video element string with '?' and extracting the 1st element which is a video id."
   ]
  },
  {
   "cell_type": "code",
   "execution_count": 19,
   "id": "20f8fca8-2803-4be3-a0f4-4a616232be4f",
   "metadata": {},
   "outputs": [],
   "source": [
    "vid_id = vid_id.split('?')[0]"
   ]
  },
  {
   "cell_type": "code",
   "execution_count": 20,
   "id": "bc1f47c9-7479-47b8-b9f5-ee9cd884e215",
   "metadata": {},
   "outputs": [
    {
     "name": "stdout",
     "output_type": "stream",
     "text": [
      "z0gguhEmWiY\n"
     ]
    }
   ],
   "source": [
    "print(vid_id)"
   ]
  },
  {
   "cell_type": "code",
   "execution_count": 21,
   "id": "7ec0bdbc-89d6-4d7b-abdf-34ba01ee5a70",
   "metadata": {},
   "outputs": [],
   "source": [
    "#Bellow is the format of video links of the youtube"
   ]
  },
  {
   "cell_type": "code",
   "execution_count": 22,
   "id": "42b4301e-819c-4911-8c7d-8980f2835281",
   "metadata": {},
   "outputs": [],
   "source": [
    "yt_link = f'https://youtube.com/watch?v={vid_id}'"
   ]
  },
  {
   "cell_type": "code",
   "execution_count": 23,
   "id": "c37d3102-4678-433c-bc38-c5214930b5f0",
   "metadata": {},
   "outputs": [
    {
     "name": "stdout",
     "output_type": "stream",
     "text": [
      "https://youtube.com/watch?v=z0gguhEmWiY\n"
     ]
    }
   ],
   "source": [
    "print(yt_link)"
   ]
  },
  {
   "cell_type": "markdown",
   "id": "c4e6bd70-124d-47ba-bad3-f2746c21bc7b",
   "metadata": {},
   "source": [
    "### Parsing video title, summary and video link for all the videos of the page and saving to a csv file for further use."
   ]
  },
  {
   "cell_type": "code",
   "execution_count": 25,
   "id": "af034d1b-5e38-4111-a5bb-64fbc152c8e2",
   "metadata": {},
   "outputs": [
    {
     "name": "stdout",
     "output_type": "stream",
     "text": [
      "Python Tutorial: Zip Files – Creating and Extracting Zip Archives\n",
      "In this video, we will be learning how to create and extract zip archives. We will start by using the zipfile module, and then we will see how to do this using the shutil module. We will learn how to do this with single files and directories, as well as learning how to use gzip as well. Let’s get started…\n",
      "https://youtube.com/watch?v=z0gguhEmWiY\n",
      "\n",
      "Python Data Science Tutorial: Analyzing the 2019 Stack Overflow Developer Survey\n",
      "In this Python Programming video, we will be learning how to download and analyze real-world data from the 2019 Stack Overflow Developer Survey. This is terrific practice for anyone getting into the data science field. We will learn different ways to analyze this data and also some best practices. Let’s get started…\n",
      "https://youtube.com/watch?v=_P7X8tMplsw\n",
      "\n",
      "Python Multiprocessing Tutorial: Run Code in Parallel Using the Multiprocessing Module\n",
      "In this Python Programming video, we will be learning how to run code in parallel using the multiprocessing module. We will also look at how to process multiple high-resolution images at the same time using a ProcessPoolExecutor from the concurrent.futures module. Let’s get started…\n",
      "https://youtube.com/watch?v=fKl2JW_qrso\n",
      "\n",
      "Python Threading Tutorial: Run Code Concurrently Using the Threading Module\n",
      "In this Python Programming video, we will be learning how to run threads concurrently using the threading module. We will also look at how to download multiple high-resolution images online using a ThreadPoolExecutor from the concurrent.futures module. Let’s get started…\n",
      "https://youtube.com/watch?v=IEEhzQoKtQU\n",
      "\n",
      "Update (2019-09-03)\n",
      "Hey everyone. I wanted to give you an update on my videos. I will be releasing videos on threading and multiprocessing within the next week. Thanks so much for your patience. I currently have a temporary recording studio setup at my Airbnb that will allow me to record and edit the threading/multiprocessing videos. I am going to be moving into my new house in 10 days and once I have my recording studio setup then you can expect much faster video releases. I really appreciate how patient everyone has been while I go through this move, especially those of you who are contributing monthly through YouTube \n",
      "None\n",
      "\n",
      "Python Quick Tip: The Difference Between “==” and “is” (Equality vs Identity)\n",
      "In this Python Programming Tutorial, we will be learning the difference between using “==” and the “is” keyword when doing comparisons. The difference between these is that “==” checks to see if values are equal, and the “is” keyword checks their identity, which means it’s going to check if the values are identical in terms of being the same object in memory. We’ll learn more in the video. Let’s get started…\n",
      "https://youtube.com/watch?v=mO_dS3rXDIs\n",
      "\n",
      "Python Tutorial: Calling External Commands Using the Subprocess Module\n",
      "In this Python Programming Tutorial, we will be learning how to run external commands using the subprocess module from the standard library. We will learn how to run commands, capture the output, handle errors, and also how to pipe output into other commands. Let’s get started…\n",
      "https://youtube.com/watch?v=2Fp1N6dof0Y\n",
      "\n",
      "Visual Studio Code (Windows) – Setting up a Python Development Environment and Complete Overview\n",
      "In this Python Programming Tutorial, we will be learning how to set up a Python development environment in VSCode on Windows. VSCode is a very nice free editor for writing Python applications and many developers are now switching over to this editor. In this video, we will learn how to install VSCode, get the Python extension installed, how to change Python interpreters, create virtual environments, format/lint our code, how to use Git within VSCode, how to debug our programs, how unit testing works, and more. We have a lot to cover, so let’s go ahead and get started…\n",
      "https://youtube.com/watch?v=-nh9rCzPJ20\n",
      "\n",
      "Visual Studio Code (Mac) – Setting up a Python Development Environment and Complete Overview\n",
      "In this Python Programming Tutorial, we will be learning how to set up a Python development environment in VSCode on MacOS. VSCode is a very nice free editor for writing Python applications and many developers are now switching over to this editor. In this video, we will learn how to install VSCode, get the Python extension installed, how to change Python interpreters, create virtual environments, format/lint our code, how to use Git within VSCode, how to debug our programs, how unit testing works, and more. We have a lot to cover, so let’s go ahead and get started…\n",
      "https://youtube.com/watch?v=06I63_p-2A4\n",
      "\n",
      "Clarifying the Issues with Mutable Default Arguments\n",
      "In this Python Programming Tutorial, we will be clarifying the issues with mutable default arguments. We discussed this in my last video titled “5 Common Python Mistakes and How to Fix Them”, but I received many comments from people who were still confused. So we will be doing a deeper dive to explain exactly what is going on here. Let’s get started…\n",
      "https://youtube.com/watch?v=_JGmemuINww\n",
      "\n"
     ]
    }
   ],
   "source": [
    "# Creating a csv file object in the write mode.\n",
    "\n",
    "csv_file = open('cms_scrape.csv', 'w', newline='')\n",
    "\n",
    "# Creating write object for the file object thus created.\n",
    "\n",
    "csv_writer = csv.writer(csv_file)\n",
    "\n",
    "# Writing headings (column names) of the file.\n",
    "\n",
    "csv_writer.writerow(['headline', 'summary', 'video_link'])\n",
    "\n",
    "\n",
    "# Looping through each article tag of the source code to extract title, summary and video links.\n",
    "\n",
    "for article in soup.find_all('article'):\n",
    "    \n",
    "    # Parsing title/heading of the video.\n",
    "    headline = article.h2.a.text\n",
    "    print(headline)\n",
    "    \n",
    "    # Parsing summary/description of the video.\n",
    "    summary = article.find('div', class_=\"entry-content\").p.text\n",
    "    print(summary)\n",
    "    \n",
    "    # using try and except block in case any video doesn't have a video link which will potentially break the code.\n",
    "    try:  \n",
    "        # Parsing the src attribute of the iframe tag\n",
    "        vid_src = article.find('iframe', class_=\"youtube-player\")['src']\n",
    "        \n",
    "        \n",
    "        # Splitting the src string with '/' to parse element of the list that contains video id.\n",
    "        vid_id = vid_src.split('/')[4]\n",
    "        \n",
    "        \n",
    "        # Further splitting the video id element string and extracting the video id.\n",
    "        vid_id = vid_id.split('?')[0]\n",
    "\n",
    "        # Creating a full youtube video link using the video id thus parsed.\n",
    "        yt_link = f'https://youtube.com/watch?v={vid_id}'\n",
    "    except Exception as e:\n",
    "        yt_link = None\n",
    "    \n",
    "    print(yt_link)\n",
    "    \n",
    "    # writing the heading, summary and video link thus parsed into the csv file.\n",
    "    csv_writer.writerow([headline, summary, yt_link])\n",
    "    \n",
    "    #Inserting blank print statement to insert a space between individual outputs.\n",
    "    print()\n",
    "    \n",
    "# Closing the file object   \n",
    "   \n",
    "csv_file.close()\n"
   ]
  },
  {
   "cell_type": "code",
   "execution_count": null,
   "id": "61b83492-0c65-4f82-a757-846ab619ec16",
   "metadata": {},
   "outputs": [],
   "source": []
  }
 ],
 "metadata": {
  "kernelspec": {
   "display_name": "Python 3 (ipykernel)",
   "language": "python",
   "name": "python3"
  },
  "language_info": {
   "codemirror_mode": {
    "name": "ipython",
    "version": 3
   },
   "file_extension": ".py",
   "mimetype": "text/x-python",
   "name": "python",
   "nbconvert_exporter": "python",
   "pygments_lexer": "ipython3",
   "version": "3.9.7"
  }
 },
 "nbformat": 4,
 "nbformat_minor": 5
}
